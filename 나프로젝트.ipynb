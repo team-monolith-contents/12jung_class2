{
 "cells": [
  {
   "cell_type": "markdown",
   "id": "333475c4-87d3-4fd7-b4fb-5cc544458156",
   "metadata": {
    "deletable": false,
    "editable": false
   },
   "source": [
    "## **나 프로젝트**"
   ]
  },
  {
   "cell_type": "markdown",
   "id": "ee94bdc6-ee23-4b82-8ad8-bef1e5766e39",
   "metadata": {
    "deletable": false,
    "editable": false
   },
   "source": [
    "#### **프로젝트 1 : 학생 클래스 정의**\n",
    "\n",
    "자신이 생각한 학생의 속성과 기능을 **두 개 이상 추가**해서 클래스로 구현하세요."
   ]
  },
  {
   "cell_type": "code",
   "execution_count": null,
   "id": "d57ff92d-5026-4450-a446-91185922e996",
   "metadata": {
    "codle/previous_execution": {
     "code": "# 프로젝트 1 : 학생 클래스\n\nclass Student:\n    def __init__(self, _name='이름'):\n        self.name = _name\n\n\n    def playExam(self, subject):\n        if subject == '수학':\n            print(f'{self.name}는 {subject} 어려움')\n        elif subject == '국어':\n            print(f'{self.name}는 {subject} 좋아함')\n\n",
     "id": "5503588"
    }
   },
   "outputs": [],
   "source": [
    "# 프로젝트 1 : 학생 클래스 정의\n",
    "\n",
    "class Student:\n",
    "    def __init__(self, _name='이름'):\n",
    "        self.name = _name\n",
    "        ######## 속성 추가 #########\n",
    "\n",
    "    \n",
    "        ###########################\n",
    "\n",
    "    def playExam(self, subject):\n",
    "        if subject == '수학':\n",
    "            print(f'{self.name}는 {subject} 어려움')\n",
    "        elif subject == '국어':\n",
    "            print(f'{self.name}는 {subject} 좋아함')\n",
    "\n",
    "    ######## 기능 추가 #########\n",
    "\n",
    "\n",
    "\n",
    "\n",
    "    ###########################"
   ]
  },
  {
   "cell_type": "markdown",
   "id": "ffd0ad2d-181c-499f-84fb-7a2309dfea83",
   "metadata": {
    "deletable": false,
    "editable": false
   },
   "source": [
    "#### **프로젝트 2 : 나 오브젝트 생성**\n",
    "\n",
    "자신이 정의한 클래스를 이용해서 나 인스턴스를 생성하고 메서드를 호출해서 기능을 사용하세요."
   ]
  },
  {
   "cell_type": "code",
   "execution_count": null,
   "id": "37bb879b-e7c1-404c-b160-613102053392",
   "metadata": {
    "codle/previous_execution": {
     "code": "me = Student('유진')\nme.playExam('수학')\nme.playExam('국어')\n",
     "id": "5503593"
    }
   },
   "outputs": [],
   "source": [
    "# 프로젝트 2 : 나 오브젝트\n",
    "\n",
    "me = Student('유진')\n",
    "me.playExam('수학')\n",
    "me.playExam('국어')\n",
    "\n",
    "## 오브젝트 생성 및 메서드 호출 ##\n",
    "\n",
    "\n",
    "\n",
    "\n",
    "\n",
    "###############################"
   ]
  }
 ],
 "metadata": {
  "kernelspec": {
   "display_name": "Python 3 (ipykernel)",
   "language": "python",
   "name": "python3"
  },
  "language_info": {
   "codemirror_mode": {
    "name": "ipython",
    "version": 3
   },
   "file_extension": ".py",
   "mimetype": "text/x-python",
   "name": "python",
   "nbconvert_exporter": "python",
   "pygments_lexer": "ipython3",
   "version": "3.10.13"
  },
  "read_only": true
 },
 "nbformat": 4,
 "nbformat_minor": 5
}
